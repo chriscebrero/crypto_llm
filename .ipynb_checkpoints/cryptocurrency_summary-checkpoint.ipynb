{
 "cells": [
  {
   "cell_type": "code",
   "execution_count": 1,
   "id": "eee5154b-e357-4158-9d9f-a6064e4e7aa9",
   "metadata": {},
   "outputs": [
    {
     "ename": "SyntaxError",
     "evalue": "invalid syntax (3403046337.py, line 2)",
     "output_type": "error",
     "traceback": [
      "\u001b[0;36m  Cell \u001b[0;32mIn[1], line 2\u001b[0;36m\u001b[0m\n\u001b[0;31m    To run this notebook, make sure to install all dependencies listed in `requirements.txt`:\u001b[0m\n\u001b[0m       ^\u001b[0m\n\u001b[0;31mSyntaxError\u001b[0m\u001b[0;31m:\u001b[0m invalid syntax\n"
     ]
    }
   ],
   "source": [
    "### Setup Instructions\n",
    "#To run this notebook, make sure to install all dependencies listed in `requirements.txt`:"
   ]
  },
  {
   "cell_type": "code",
   "execution_count": null,
   "id": "71b29bc3-20f4-4ba5-865c-4b87139e932e",
   "metadata": {},
   "outputs": [],
   "source": [
    "from utils.data_fetcher import get_crypto_data\n",
    "from utils.llm_processor import generate_crypto_summary, generate_crypto_info\n",
    "import ipywidgets as widgets\n",
    "from IPython.display import display, Markdown, HTML\n",
    "import pandas as pd"
   ]
  },
  {
   "cell_type": "code",
   "execution_count": null,
   "id": "ac1e73db-dc9c-4e44-8df5-eab354789d71",
   "metadata": {},
   "outputs": [],
   "source": [
    "symbol = \"bitcoin\"\n",
    "crypto_data = get_crypto_data(symbol)\n",
    "print(\"Fetched Crypto Data:\", crypto_data)"
   ]
  },
  {
   "cell_type": "code",
   "execution_count": null,
   "id": "a299bdde-6418-4fa6-bc61-e22f6e887681",
   "metadata": {},
   "outputs": [],
   "source": [
    "summary = generate_crypto_summary(crypto_data)\n",
    "print(\"Generated Summary:\", summary)"
   ]
  },
  {
   "cell_type": "code",
   "execution_count": null,
   "id": "0be57cd0-bf1d-4cc7-a2ad-378c7ab20c5a",
   "metadata": {
    "scrolled": true
   },
   "outputs": [],
   "source": [
    "\n",
    "\n",
    "# Define display functions\n",
    "def display_summary(summary_text, crypto_data, info):\n",
    "    data = [\n",
    "        {\"Date\": date, \"Price\": f\"${info['Price']:.2f}\"}\n",
    "        for date, info in crypto_data\n",
    "    ]\n",
    "    df = pd.DataFrame(data)\n",
    "    \n",
    "    # Display summary and table\n",
    "    display(Markdown(f\"<h3 style='color: #2c3e50;'>Cryptocurrency Data</h3>\\n\\n{info}\"))\n",
    "    display(Markdown(f\"<h3 style='color: #2c3e50;'>Cryptocurrency Data Summary</h3>\\n\\n{summary_text}\"))\n",
    "    display(Markdown(\"<h3 style='color: #2c3e50;'>Recent Cryptocurrency Data</h3>\"))\n",
    "    display(df.head(5).style.set_properties(**{'background-color': '#f9f9f9', 'border': '1px solid #ddd', 'padding': '10px'}))\n",
    "\n",
    "# Create widgets\n",
    "symbol_input = widgets.Text(\n",
    "    value='bitcoin',\n",
    "    placeholder='Enter crypto symbol',\n",
    "    description='Symbol:',\n",
    "    style={'description_width': 'initial'}\n",
    ")\n",
    "fetch_button = widgets.Button(\n",
    "    description=\"Fetch & Summarize\",\n",
    "    button_style='primary',\n",
    "    layout=widgets.Layout(width='150px', height='40px')\n",
    ")\n",
    "output_area = widgets.Output(\n",
    "    layout=widgets.Layout(border='1px solid #ccc', padding='10px', margin='10px')\n",
    ")\n",
    "\n",
    "# Define the button's on-click event\n",
    "def on_button_clicked(b):\n",
    "    output_area.clear_output()\n",
    "    with output_area:\n",
    "        crypto_data = get_crypto_data(symbol_input.value.lower())\n",
    "        if crypto_data:\n",
    "            info = generate_crypto_info(crypto_data)\n",
    "            summary = generate_crypto_summary(crypto_data)\n",
    "            display_summary(summary, crypto_data, info)\n",
    "        else:\n",
    "            display(HTML(\"<p style='color: red;'>Failed to retrieve cryptocurrency data. Please check the symbol or API connection.</p>\"))\n",
    "\n",
    "# Link button click to function\n",
    "fetch_button.on_click(on_button_clicked)\n",
    "\n",
    "# Display UI\n",
    "display(HTML(\"<h2 style='color: #34495e; font-family: Arial;'>Cryptocurrency Analysis</h2>\"))\n",
    "display(symbol_input, fetch_button, output_area)\n"
   ]
  }
 ],
 "metadata": {
  "kernelspec": {
   "display_name": "Python 3 (ipykernel)",
   "language": "python",
   "name": "python3"
  },
  "language_info": {
   "codemirror_mode": {
    "name": "ipython",
    "version": 3
   },
   "file_extension": ".py",
   "mimetype": "text/x-python",
   "name": "python",
   "nbconvert_exporter": "python",
   "pygments_lexer": "ipython3",
   "version": "3.9.6"
  }
 },
 "nbformat": 4,
 "nbformat_minor": 5
}
