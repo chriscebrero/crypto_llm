{
 "cells": [
  {
   "cell_type": "code",
   "execution_count": 1,
   "id": "eee5154b-e357-4158-9d9f-a6064e4e7aa9",
   "metadata": {},
   "outputs": [
    {
     "name": "stdout",
     "output_type": "stream",
     "text": [
      "Defaulting to user installation because normal site-packages is not writeable\n",
      "Requirement already satisfied: transformers in /Users/christiancebrero/Library/Python/3.9/lib/python/site-packages (4.46.1)\n",
      "Requirement already satisfied: requests in /Users/christiancebrero/Library/Python/3.9/lib/python/site-packages (2.32.3)\n",
      "Requirement already satisfied: torch in /Users/christiancebrero/Library/Python/3.9/lib/python/site-packages (2.2.2)\n",
      "Requirement already satisfied: pandas in /Users/christiancebrero/Library/Python/3.9/lib/python/site-packages (2.2.3)\n",
      "Requirement already satisfied: filelock in /Users/christiancebrero/Library/Python/3.9/lib/python/site-packages (from transformers) (3.16.1)\n",
      "Requirement already satisfied: huggingface-hub<1.0,>=0.23.2 in /Users/christiancebrero/Library/Python/3.9/lib/python/site-packages (from transformers) (0.26.2)\n",
      "Requirement already satisfied: numpy>=1.17 in /Users/christiancebrero/Library/Python/3.9/lib/python/site-packages (from transformers) (1.23.5)\n",
      "Requirement already satisfied: packaging>=20.0 in /Users/christiancebrero/Library/Python/3.9/lib/python/site-packages (from transformers) (24.1)\n",
      "Requirement already satisfied: pyyaml>=5.1 in /Users/christiancebrero/Library/Python/3.9/lib/python/site-packages (from transformers) (6.0.2)\n",
      "Requirement already satisfied: regex!=2019.12.17 in /Users/christiancebrero/Library/Python/3.9/lib/python/site-packages (from transformers) (2024.9.11)\n",
      "Requirement already satisfied: safetensors>=0.4.1 in /Users/christiancebrero/Library/Python/3.9/lib/python/site-packages (from transformers) (0.4.5)\n",
      "Requirement already satisfied: tokenizers<0.21,>=0.20 in /Users/christiancebrero/Library/Python/3.9/lib/python/site-packages (from transformers) (0.20.2)\n",
      "Requirement already satisfied: tqdm>=4.27 in /Users/christiancebrero/Library/Python/3.9/lib/python/site-packages (from transformers) (4.66.6)\n",
      "Requirement already satisfied: charset-normalizer<4,>=2 in /Users/christiancebrero/Library/Python/3.9/lib/python/site-packages (from requests) (3.4.0)\n",
      "Requirement already satisfied: idna<4,>=2.5 in /Users/christiancebrero/Library/Python/3.9/lib/python/site-packages (from requests) (3.10)\n",
      "Requirement already satisfied: urllib3<3,>=1.21.1 in /Users/christiancebrero/Library/Python/3.9/lib/python/site-packages (from requests) (1.26.16)\n",
      "Requirement already satisfied: certifi>=2017.4.17 in /Users/christiancebrero/Library/Python/3.9/lib/python/site-packages (from requests) (2024.8.30)\n",
      "Requirement already satisfied: typing-extensions>=4.8.0 in /Users/christiancebrero/Library/Python/3.9/lib/python/site-packages (from torch) (4.12.2)\n",
      "Requirement already satisfied: sympy in /Users/christiancebrero/Library/Python/3.9/lib/python/site-packages (from torch) (1.13.3)\n",
      "Requirement already satisfied: networkx in /Users/christiancebrero/Library/Python/3.9/lib/python/site-packages (from torch) (3.2.1)\n",
      "Requirement already satisfied: jinja2 in /Users/christiancebrero/Library/Python/3.9/lib/python/site-packages (from torch) (3.1.4)\n",
      "Requirement already satisfied: fsspec in /Users/christiancebrero/Library/Python/3.9/lib/python/site-packages (from torch) (2024.10.0)\n",
      "Requirement already satisfied: python-dateutil>=2.8.2 in /Users/christiancebrero/Library/Python/3.9/lib/python/site-packages (from pandas) (2.9.0.post0)\n",
      "Requirement already satisfied: pytz>=2020.1 in /Users/christiancebrero/Library/Python/3.9/lib/python/site-packages (from pandas) (2024.2)\n",
      "Requirement already satisfied: tzdata>=2022.7 in /Users/christiancebrero/Library/Python/3.9/lib/python/site-packages (from pandas) (2024.2)\n",
      "Requirement already satisfied: six>=1.5 in /Library/Developer/CommandLineTools/Library/Frameworks/Python3.framework/Versions/3.9/lib/python3.9/site-packages (from python-dateutil>=2.8.2->pandas) (1.15.0)\n",
      "Requirement already satisfied: MarkupSafe>=2.0 in /Users/christiancebrero/Library/Python/3.9/lib/python/site-packages (from jinja2->torch) (3.0.2)\n",
      "Requirement already satisfied: mpmath<1.4,>=1.1.0 in /Users/christiancebrero/Library/Python/3.9/lib/python/site-packages (from sympy->torch) (1.3.0)\n"
     ]
    }
   ],
   "source": [
    "!pip install transformers requests torch pandas\n",
    "!pip install numpy==1.23.5\n",
    "from utils.data_fetcher import get_crypto_data\n",
    "from utils.llm_processor import generate_crypto_summary, generate_crypto_info\n",
    "import ipywidgets as widgets\n",
    "from IPython.display import display, Markdown, HTML\n",
    "import pandas as pd"
   ]
  },
  {
   "cell_type": "code",
   "execution_count": 2,
   "id": "ac1e73db-dc9c-4e44-8df5-eab354789d71",
   "metadata": {},
   "outputs": [
    {
     "name": "stdout",
     "output_type": "stream",
     "text": [
      "[('2024-11-05', {'Price': 68967.05194821829}), ('2024-11-04', {'Price': 68639.82285689418}), ('2024-11-03', {'Price': 68549.87880698167}), ('2024-11-02', {'Price': 69728.32471611118}), ('2024-11-01', {'Price': 69130.94832532185}), ('2024-10-31', {'Price': 69329.1657625703})]\n",
      "Fetched Crypto Data: [('2024-11-05', {'Price': 68967.05194821829}), ('2024-11-04', {'Price': 68639.82285689418}), ('2024-11-03', {'Price': 68549.87880698167}), ('2024-11-02', {'Price': 69728.32471611118}), ('2024-11-01', {'Price': 69130.94832532185}), ('2024-10-31', {'Price': 69329.1657625703})]\n"
     ]
    }
   ],
   "source": [
    "symbol = \"bitcoin\"\n",
    "crypto_data = get_crypto_data(symbol)\n",
    "print(\"Fetched Crypto Data:\", crypto_data)"
   ]
  },
  {
   "cell_type": "code",
   "execution_count": 4,
   "id": "a299bdde-6418-4fa6-bc61-e22f6e887681",
   "metadata": {},
   "outputs": [
    {
     "name": "stdout",
     "output_type": "stream",
     "text": [
      "Formatted data for summarization: On Tuesday, November 05, 2024, the price of the cryptocurrency was $68967.05. On Monday, November 04, 2024, the price of the cryptocurrency was $68639.82. On Sunday, November 03, 2024, the price of the cryptocurrency was $68549.88. On Saturday, November 02, 2024, the price of the cryptocurrency was $69728.32. On Friday, November 01, 2024, the price of the cryptocurrency was $69130.95. On Thursday, October 31, 2024, the price of the cryptocurrency was $69329.17.\n",
      "Generated Summary: The price of the cryptocurrency was $68967.05 on Tuesday, November 05, 2024. On Friday, November 01, 2024, the price of. the cryptocurrencies was $69130.95. On Sunday, November 03, 2024,. the price was $68549.88. On Saturday, November 02, 2024., the price  was $69728.32.\n"
     ]
    }
   ],
   "source": [
    "summary = generate_crypto_summary(crypto_data)\n",
    "print(\"Generated Summary:\", summary)"
   ]
  },
  {
   "cell_type": "code",
   "execution_count": 5,
   "id": "0be57cd0-bf1d-4cc7-a2ad-378c7ab20c5a",
   "metadata": {
    "scrolled": true
   },
   "outputs": [
    {
     "data": {
      "text/html": [
       "<h2 style='color: #34495e; font-family: Arial;'>Cryptocurrency Analysis</h2>"
      ],
      "text/plain": [
       "<IPython.core.display.HTML object>"
      ]
     },
     "metadata": {},
     "output_type": "display_data"
    },
    {
     "data": {
      "application/vnd.jupyter.widget-view+json": {
       "model_id": "40db4793d28a4ae28cc71fcde172e1ae",
       "version_major": 2,
       "version_minor": 0
      },
      "text/plain": [
       "Text(value='bitcoin', description='Symbol:', placeholder='Enter crypto symbol', style=TextStyle(description_wi…"
      ]
     },
     "metadata": {},
     "output_type": "display_data"
    },
    {
     "data": {
      "application/vnd.jupyter.widget-view+json": {
       "model_id": "14754b3cb0c0457d93cca6d5849aad0c",
       "version_major": 2,
       "version_minor": 0
      },
      "text/plain": [
       "Button(button_style='primary', description='Fetch & Summarize', layout=Layout(height='40px', width='150px'), s…"
      ]
     },
     "metadata": {},
     "output_type": "display_data"
    },
    {
     "data": {
      "application/vnd.jupyter.widget-view+json": {
       "model_id": "fcda34e69b8140c78d1cc2c2cfb42371",
       "version_major": 2,
       "version_minor": 0
      },
      "text/plain": [
       "Output(layout=Layout(border_bottom='1px solid #ccc', border_left='1px solid #ccc', border_right='1px solid #cc…"
      ]
     },
     "metadata": {},
     "output_type": "display_data"
    }
   ],
   "source": [
    "\n",
    "\n",
    "# Define display functions\n",
    "def display_summary(summary_text, crypto_data, info):\n",
    "    data = [\n",
    "        {\"Date\": date, \"Price\": f\"${info['Price']:.2f}\"}\n",
    "        for date, info in crypto_data\n",
    "    ]\n",
    "    df = pd.DataFrame(data)\n",
    "    \n",
    "    # Display summary and table\n",
    "    display(Markdown(f\"<h3 style='color: #2c3e50;'>Cryptocurrency Data</h3>\\n\\n{info}\"))\n",
    "    display(Markdown(f\"<h3 style='color: #2c3e50;'>Cryptocurrency Data Summary</h3>\\n\\n{summary_text}\"))\n",
    "    display(Markdown(\"<h3 style='color: #2c3e50;'>Recent Cryptocurrency Data</h3>\"))\n",
    "    display(df.head(5).style.set_properties(**{'background-color': '#f9f9f9', 'border': '1px solid #ddd', 'padding': '10px'}))\n",
    "\n",
    "# Create widgets\n",
    "symbol_input = widgets.Text(\n",
    "    value='bitcoin',\n",
    "    placeholder='Enter crypto symbol',\n",
    "    description='Symbol:',\n",
    "    style={'description_width': 'initial'}\n",
    ")\n",
    "fetch_button = widgets.Button(\n",
    "    description=\"Fetch & Summarize\",\n",
    "    button_style='primary',\n",
    "    layout=widgets.Layout(width='150px', height='40px')\n",
    ")\n",
    "output_area = widgets.Output(\n",
    "    layout=widgets.Layout(border='1px solid #ccc', padding='10px', margin='10px')\n",
    ")\n",
    "\n",
    "# Define the button's on-click event\n",
    "def on_button_clicked(b):\n",
    "    output_area.clear_output()\n",
    "    with output_area:\n",
    "        crypto_data = get_crypto_data(symbol_input.value.lower())\n",
    "        if crypto_data:\n",
    "            info = generate_crypto_info(crypto_data)\n",
    "            summary = generate_crypto_summary(crypto_data)\n",
    "            display_summary(summary, crypto_data, info)\n",
    "        else:\n",
    "            display(HTML(\"<p style='color: red;'>Failed to retrieve cryptocurrency data. Please check the symbol or API connection.</p>\"))\n",
    "\n",
    "# Link button click to function\n",
    "fetch_button.on_click(on_button_clicked)\n",
    "\n",
    "# Display UI\n",
    "display(HTML(\"<h2 style='color: #34495e; font-family: Arial;'>Cryptocurrency Analysis</h2>\"))\n",
    "display(symbol_input, fetch_button, output_area)\n"
   ]
  }
 ],
 "metadata": {
  "kernelspec": {
   "display_name": "Python 3 (ipykernel)",
   "language": "python",
   "name": "python3"
  },
  "language_info": {
   "codemirror_mode": {
    "name": "ipython",
    "version": 3
   },
   "file_extension": ".py",
   "mimetype": "text/x-python",
   "name": "python",
   "nbconvert_exporter": "python",
   "pygments_lexer": "ipython3",
   "version": "3.9.6"
  }
 },
 "nbformat": 4,
 "nbformat_minor": 5
}
