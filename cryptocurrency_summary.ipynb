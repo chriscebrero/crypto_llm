{
  "cells": [
    {
      "cell_type": "markdown",
      "metadata": {
        "id": "view-in-github",
        "colab_type": "text"
      },
      "source": [
        "<a href=\"https://colab.research.google.com/github/chriscebrero/crypto_llm/blob/master/cryptocurrency_summary.ipynb\" target=\"_parent\"><img src=\"https://colab.research.google.com/assets/colab-badge.svg\" alt=\"Open In Colab\"/></a>"
      ]
    },
    {
      "cell_type": "code",
      "execution_count": 6,
      "id": "eee5154b-e357-4158-9d9f-a6064e4e7aa9",
      "metadata": {
        "id": "eee5154b-e357-4158-9d9f-a6064e4e7aa9"
      },
      "outputs": [],
      "source": [
        "### Setup Instructions\n",
        "#To run this notebook, make sure to install all dependencies listed in `requirements.txt`:"
      ]
    },
    {
      "cell_type": "code",
      "source": [
        "# Install dependencies\n",
        "!pip install -r https://raw.githubusercontent.com/chriscebrero/crypto_llm/master/requirements.txt\n",
        "\n",
        "# Clone repository to access helper functions\n",
        "!git clone https://github.com/chriscebrero/crypto_llm.git\n",
        "%cd crypto_llm"
      ],
      "metadata": {
        "id": "8Igth3Ue6EN9",
        "outputId": "0f32db2d-182b-44a1-a0aa-68b760268f5d",
        "colab": {
          "base_uri": "https://localhost:8080/"
        }
      },
      "id": "8Igth3Ue6EN9",
      "execution_count": 7,
      "outputs": [
        {
          "output_type": "stream",
          "name": "stdout",
          "text": [
            "Requirement already satisfied: ipywidgets==7.7.1 in /usr/local/lib/python3.10/dist-packages (from -r https://raw.githubusercontent.com/chriscebrero/crypto_llm/master/requirements.txt (line 1)) (7.7.1)\n",
            "Requirement already satisfied: pandas<2.2.0 in /usr/local/lib/python3.10/dist-packages (from -r https://raw.githubusercontent.com/chriscebrero/crypto_llm/master/requirements.txt (line 2)) (2.1.4)\n",
            "Requirement already satisfied: numpy<2.0.0 in /usr/local/lib/python3.10/dist-packages (from -r https://raw.githubusercontent.com/chriscebrero/crypto_llm/master/requirements.txt (line 3)) (1.26.4)\n",
            "Requirement already satisfied: gensim<4.4.0 in /usr/local/lib/python3.10/dist-packages (from -r https://raw.githubusercontent.com/chriscebrero/crypto_llm/master/requirements.txt (line 4)) (4.3.3)\n",
            "Requirement already satisfied: langchain<0.3.5 in /usr/local/lib/python3.10/dist-packages (from -r https://raw.githubusercontent.com/chriscebrero/crypto_llm/master/requirements.txt (line 5)) (0.3.4)\n",
            "Requirement already satisfied: matplotlib<3.8.0 in /usr/local/lib/python3.10/dist-packages (from -r https://raw.githubusercontent.com/chriscebrero/crypto_llm/master/requirements.txt (line 6)) (3.7.5)\n",
            "Requirement already satisfied: tf-keras<2.17.0 in /usr/local/lib/python3.10/dist-packages (from -r https://raw.githubusercontent.com/chriscebrero/crypto_llm/master/requirements.txt (line 7)) (2.16.0)\n",
            "Requirement already satisfied: tensorflow<2.18 in /usr/local/lib/python3.10/dist-packages (from -r https://raw.githubusercontent.com/chriscebrero/crypto_llm/master/requirements.txt (line 8)) (2.16.2)\n",
            "Requirement already satisfied: torch==2.5.0 in /usr/local/lib/python3.10/dist-packages (from -r https://raw.githubusercontent.com/chriscebrero/crypto_llm/master/requirements.txt (line 9)) (2.5.0)\n",
            "Requirement already satisfied: torchvision==0.20.0+cu121 in /usr/local/lib/python3.10/dist-packages (from -r https://raw.githubusercontent.com/chriscebrero/crypto_llm/master/requirements.txt (line 10)) (0.20.0+cu121)\n",
            "Requirement already satisfied: torchaudio==2.5.0+cu121 in /usr/local/lib/python3.10/dist-packages (from -r https://raw.githubusercontent.com/chriscebrero/crypto_llm/master/requirements.txt (line 11)) (2.5.0+cu121)\n",
            "Requirement already satisfied: yfinance==0.2.48 in /usr/local/lib/python3.10/dist-packages (from -r https://raw.githubusercontent.com/chriscebrero/crypto_llm/master/requirements.txt (line 12)) (0.2.48)\n",
            "Requirement already satisfied: transformers==4.31.0 in /usr/local/lib/python3.10/dist-packages (from -r https://raw.githubusercontent.com/chriscebrero/crypto_llm/master/requirements.txt (line 13)) (4.31.0)\n",
            "Requirement already satisfied: ipykernel>=4.5.1 in /usr/local/lib/python3.10/dist-packages (from ipywidgets==7.7.1->-r https://raw.githubusercontent.com/chriscebrero/crypto_llm/master/requirements.txt (line 1)) (5.5.6)\n",
            "Requirement already satisfied: ipython-genutils~=0.2.0 in /usr/local/lib/python3.10/dist-packages (from ipywidgets==7.7.1->-r https://raw.githubusercontent.com/chriscebrero/crypto_llm/master/requirements.txt (line 1)) (0.2.0)\n",
            "Requirement already satisfied: traitlets>=4.3.1 in /usr/local/lib/python3.10/dist-packages (from ipywidgets==7.7.1->-r https://raw.githubusercontent.com/chriscebrero/crypto_llm/master/requirements.txt (line 1)) (5.7.1)\n",
            "Requirement already satisfied: widgetsnbextension~=3.6.0 in /usr/local/lib/python3.10/dist-packages (from ipywidgets==7.7.1->-r https://raw.githubusercontent.com/chriscebrero/crypto_llm/master/requirements.txt (line 1)) (3.6.10)\n",
            "Requirement already satisfied: ipython>=4.0.0 in /usr/local/lib/python3.10/dist-packages (from ipywidgets==7.7.1->-r https://raw.githubusercontent.com/chriscebrero/crypto_llm/master/requirements.txt (line 1)) (7.34.0)\n",
            "Requirement already satisfied: jupyterlab-widgets>=1.0.0 in /usr/local/lib/python3.10/dist-packages (from ipywidgets==7.7.1->-r https://raw.githubusercontent.com/chriscebrero/crypto_llm/master/requirements.txt (line 1)) (3.0.13)\n",
            "Requirement already satisfied: filelock in /usr/local/lib/python3.10/dist-packages (from torch==2.5.0->-r https://raw.githubusercontent.com/chriscebrero/crypto_llm/master/requirements.txt (line 9)) (3.16.1)\n",
            "Requirement already satisfied: typing-extensions>=4.8.0 in /usr/local/lib/python3.10/dist-packages (from torch==2.5.0->-r https://raw.githubusercontent.com/chriscebrero/crypto_llm/master/requirements.txt (line 9)) (4.12.2)\n",
            "Requirement already satisfied: networkx in /usr/local/lib/python3.10/dist-packages (from torch==2.5.0->-r https://raw.githubusercontent.com/chriscebrero/crypto_llm/master/requirements.txt (line 9)) (3.4.2)\n",
            "Requirement already satisfied: jinja2 in /usr/local/lib/python3.10/dist-packages (from torch==2.5.0->-r https://raw.githubusercontent.com/chriscebrero/crypto_llm/master/requirements.txt (line 9)) (3.1.4)\n",
            "Requirement already satisfied: fsspec in /usr/local/lib/python3.10/dist-packages (from torch==2.5.0->-r https://raw.githubusercontent.com/chriscebrero/crypto_llm/master/requirements.txt (line 9)) (2024.10.0)\n",
            "Requirement already satisfied: nvidia-cuda-nvrtc-cu12==12.4.127 in /usr/local/lib/python3.10/dist-packages (from torch==2.5.0->-r https://raw.githubusercontent.com/chriscebrero/crypto_llm/master/requirements.txt (line 9)) (12.4.127)\n",
            "Requirement already satisfied: nvidia-cuda-runtime-cu12==12.4.127 in /usr/local/lib/python3.10/dist-packages (from torch==2.5.0->-r https://raw.githubusercontent.com/chriscebrero/crypto_llm/master/requirements.txt (line 9)) (12.4.127)\n",
            "Requirement already satisfied: nvidia-cuda-cupti-cu12==12.4.127 in /usr/local/lib/python3.10/dist-packages (from torch==2.5.0->-r https://raw.githubusercontent.com/chriscebrero/crypto_llm/master/requirements.txt (line 9)) (12.4.127)\n",
            "Requirement already satisfied: nvidia-cudnn-cu12==9.1.0.70 in /usr/local/lib/python3.10/dist-packages (from torch==2.5.0->-r https://raw.githubusercontent.com/chriscebrero/crypto_llm/master/requirements.txt (line 9)) (9.1.0.70)\n",
            "Requirement already satisfied: nvidia-cublas-cu12==12.4.5.8 in /usr/local/lib/python3.10/dist-packages (from torch==2.5.0->-r https://raw.githubusercontent.com/chriscebrero/crypto_llm/master/requirements.txt (line 9)) (12.4.5.8)\n",
            "Requirement already satisfied: nvidia-cufft-cu12==11.2.1.3 in /usr/local/lib/python3.10/dist-packages (from torch==2.5.0->-r https://raw.githubusercontent.com/chriscebrero/crypto_llm/master/requirements.txt (line 9)) (11.2.1.3)\n",
            "Requirement already satisfied: nvidia-curand-cu12==10.3.5.147 in /usr/local/lib/python3.10/dist-packages (from torch==2.5.0->-r https://raw.githubusercontent.com/chriscebrero/crypto_llm/master/requirements.txt (line 9)) (10.3.5.147)\n",
            "Requirement already satisfied: nvidia-cusolver-cu12==11.6.1.9 in /usr/local/lib/python3.10/dist-packages (from torch==2.5.0->-r https://raw.githubusercontent.com/chriscebrero/crypto_llm/master/requirements.txt (line 9)) (11.6.1.9)\n",
            "Requirement already satisfied: nvidia-cusparse-cu12==12.3.1.170 in /usr/local/lib/python3.10/dist-packages (from torch==2.5.0->-r https://raw.githubusercontent.com/chriscebrero/crypto_llm/master/requirements.txt (line 9)) (12.3.1.170)\n",
            "Requirement already satisfied: nvidia-nccl-cu12==2.21.5 in /usr/local/lib/python3.10/dist-packages (from torch==2.5.0->-r https://raw.githubusercontent.com/chriscebrero/crypto_llm/master/requirements.txt (line 9)) (2.21.5)\n",
            "Requirement already satisfied: nvidia-nvtx-cu12==12.4.127 in /usr/local/lib/python3.10/dist-packages (from torch==2.5.0->-r https://raw.githubusercontent.com/chriscebrero/crypto_llm/master/requirements.txt (line 9)) (12.4.127)\n",
            "Requirement already satisfied: nvidia-nvjitlink-cu12==12.4.127 in /usr/local/lib/python3.10/dist-packages (from torch==2.5.0->-r https://raw.githubusercontent.com/chriscebrero/crypto_llm/master/requirements.txt (line 9)) (12.4.127)\n",
            "Requirement already satisfied: triton==3.1.0 in /usr/local/lib/python3.10/dist-packages (from torch==2.5.0->-r https://raw.githubusercontent.com/chriscebrero/crypto_llm/master/requirements.txt (line 9)) (3.1.0)\n",
            "Requirement already satisfied: sympy==1.13.1 in /usr/local/lib/python3.10/dist-packages (from torch==2.5.0->-r https://raw.githubusercontent.com/chriscebrero/crypto_llm/master/requirements.txt (line 9)) (1.13.1)\n",
            "Requirement already satisfied: pillow!=8.3.*,>=5.3.0 in /usr/local/lib/python3.10/dist-packages (from torchvision==0.20.0+cu121->-r https://raw.githubusercontent.com/chriscebrero/crypto_llm/master/requirements.txt (line 10)) (10.4.0)\n",
            "Requirement already satisfied: requests>=2.31 in /usr/local/lib/python3.10/dist-packages (from yfinance==0.2.48->-r https://raw.githubusercontent.com/chriscebrero/crypto_llm/master/requirements.txt (line 12)) (2.32.3)\n",
            "Requirement already satisfied: multitasking>=0.0.7 in /usr/local/lib/python3.10/dist-packages (from yfinance==0.2.48->-r https://raw.githubusercontent.com/chriscebrero/crypto_llm/master/requirements.txt (line 12)) (0.0.11)\n",
            "Requirement already satisfied: lxml>=4.9.1 in /usr/local/lib/python3.10/dist-packages (from yfinance==0.2.48->-r https://raw.githubusercontent.com/chriscebrero/crypto_llm/master/requirements.txt (line 12)) (5.3.0)\n",
            "Requirement already satisfied: platformdirs>=2.0.0 in /usr/local/lib/python3.10/dist-packages (from yfinance==0.2.48->-r https://raw.githubusercontent.com/chriscebrero/crypto_llm/master/requirements.txt (line 12)) (4.3.6)\n",
            "Requirement already satisfied: pytz>=2022.5 in /usr/local/lib/python3.10/dist-packages (from yfinance==0.2.48->-r https://raw.githubusercontent.com/chriscebrero/crypto_llm/master/requirements.txt (line 12)) (2024.2)\n",
            "Requirement already satisfied: frozendict>=2.3.4 in /usr/local/lib/python3.10/dist-packages (from yfinance==0.2.48->-r https://raw.githubusercontent.com/chriscebrero/crypto_llm/master/requirements.txt (line 12)) (2.4.6)\n",
            "Requirement already satisfied: peewee>=3.16.2 in /usr/local/lib/python3.10/dist-packages (from yfinance==0.2.48->-r https://raw.githubusercontent.com/chriscebrero/crypto_llm/master/requirements.txt (line 12)) (3.17.7)\n",
            "Requirement already satisfied: beautifulsoup4>=4.11.1 in /usr/local/lib/python3.10/dist-packages (from yfinance==0.2.48->-r https://raw.githubusercontent.com/chriscebrero/crypto_llm/master/requirements.txt (line 12)) (4.12.3)\n",
            "Requirement already satisfied: html5lib>=1.1 in /usr/local/lib/python3.10/dist-packages (from yfinance==0.2.48->-r https://raw.githubusercontent.com/chriscebrero/crypto_llm/master/requirements.txt (line 12)) (1.1)\n",
            "Requirement already satisfied: huggingface-hub<1.0,>=0.14.1 in /usr/local/lib/python3.10/dist-packages (from transformers==4.31.0->-r https://raw.githubusercontent.com/chriscebrero/crypto_llm/master/requirements.txt (line 13)) (0.24.7)\n",
            "Requirement already satisfied: packaging>=20.0 in /usr/local/lib/python3.10/dist-packages (from transformers==4.31.0->-r https://raw.githubusercontent.com/chriscebrero/crypto_llm/master/requirements.txt (line 13)) (24.1)\n",
            "Requirement already satisfied: pyyaml>=5.1 in /usr/local/lib/python3.10/dist-packages (from transformers==4.31.0->-r https://raw.githubusercontent.com/chriscebrero/crypto_llm/master/requirements.txt (line 13)) (6.0.2)\n",
            "Requirement already satisfied: regex!=2019.12.17 in /usr/local/lib/python3.10/dist-packages (from transformers==4.31.0->-r https://raw.githubusercontent.com/chriscebrero/crypto_llm/master/requirements.txt (line 13)) (2024.9.11)\n",
            "Requirement already satisfied: tokenizers!=0.11.3,<0.14,>=0.11.1 in /usr/local/lib/python3.10/dist-packages (from transformers==4.31.0->-r https://raw.githubusercontent.com/chriscebrero/crypto_llm/master/requirements.txt (line 13)) (0.13.3)\n",
            "Requirement already satisfied: safetensors>=0.3.1 in /usr/local/lib/python3.10/dist-packages (from transformers==4.31.0->-r https://raw.githubusercontent.com/chriscebrero/crypto_llm/master/requirements.txt (line 13)) (0.4.5)\n",
            "Requirement already satisfied: tqdm>=4.27 in /usr/local/lib/python3.10/dist-packages (from transformers==4.31.0->-r https://raw.githubusercontent.com/chriscebrero/crypto_llm/master/requirements.txt (line 13)) (4.66.6)\n",
            "Requirement already satisfied: mpmath<1.4,>=1.1.0 in /usr/local/lib/python3.10/dist-packages (from sympy==1.13.1->torch==2.5.0->-r https://raw.githubusercontent.com/chriscebrero/crypto_llm/master/requirements.txt (line 9)) (1.3.0)\n",
            "Requirement already satisfied: python-dateutil>=2.8.2 in /usr/local/lib/python3.10/dist-packages (from pandas<2.2.0->-r https://raw.githubusercontent.com/chriscebrero/crypto_llm/master/requirements.txt (line 2)) (2.8.2)\n",
            "Requirement already satisfied: tzdata>=2022.1 in /usr/local/lib/python3.10/dist-packages (from pandas<2.2.0->-r https://raw.githubusercontent.com/chriscebrero/crypto_llm/master/requirements.txt (line 2)) (2024.2)\n",
            "Requirement already satisfied: scipy<1.14.0,>=1.7.0 in /usr/local/lib/python3.10/dist-packages (from gensim<4.4.0->-r https://raw.githubusercontent.com/chriscebrero/crypto_llm/master/requirements.txt (line 4)) (1.13.1)\n",
            "Requirement already satisfied: smart-open>=1.8.1 in /usr/local/lib/python3.10/dist-packages (from gensim<4.4.0->-r https://raw.githubusercontent.com/chriscebrero/crypto_llm/master/requirements.txt (line 4)) (7.0.5)\n",
            "Requirement already satisfied: SQLAlchemy<3,>=1.4 in /usr/local/lib/python3.10/dist-packages (from langchain<0.3.5->-r https://raw.githubusercontent.com/chriscebrero/crypto_llm/master/requirements.txt (line 5)) (2.0.36)\n",
            "Requirement already satisfied: aiohttp<4.0.0,>=3.8.3 in /usr/local/lib/python3.10/dist-packages (from langchain<0.3.5->-r https://raw.githubusercontent.com/chriscebrero/crypto_llm/master/requirements.txt (line 5)) (3.10.10)\n",
            "Requirement already satisfied: async-timeout<5.0.0,>=4.0.0 in /usr/local/lib/python3.10/dist-packages (from langchain<0.3.5->-r https://raw.githubusercontent.com/chriscebrero/crypto_llm/master/requirements.txt (line 5)) (4.0.3)\n",
            "Requirement already satisfied: langchain-core<0.4.0,>=0.3.12 in /usr/local/lib/python3.10/dist-packages (from langchain<0.3.5->-r https://raw.githubusercontent.com/chriscebrero/crypto_llm/master/requirements.txt (line 5)) (0.3.13)\n",
            "Requirement already satisfied: langchain-text-splitters<0.4.0,>=0.3.0 in /usr/local/lib/python3.10/dist-packages (from langchain<0.3.5->-r https://raw.githubusercontent.com/chriscebrero/crypto_llm/master/requirements.txt (line 5)) (0.3.0)\n",
            "Requirement already satisfied: langsmith<0.2.0,>=0.1.17 in /usr/local/lib/python3.10/dist-packages (from langchain<0.3.5->-r https://raw.githubusercontent.com/chriscebrero/crypto_llm/master/requirements.txt (line 5)) (0.1.137)\n",
            "Requirement already satisfied: pydantic<3.0.0,>=2.7.4 in /usr/local/lib/python3.10/dist-packages (from langchain<0.3.5->-r https://raw.githubusercontent.com/chriscebrero/crypto_llm/master/requirements.txt (line 5)) (2.9.2)\n",
            "Requirement already satisfied: tenacity!=8.4.0,<10,>=8.1.0 in /usr/local/lib/python3.10/dist-packages (from langchain<0.3.5->-r https://raw.githubusercontent.com/chriscebrero/crypto_llm/master/requirements.txt (line 5)) (9.0.0)\n",
            "Requirement already satisfied: contourpy>=1.0.1 in /usr/local/lib/python3.10/dist-packages (from matplotlib<3.8.0->-r https://raw.githubusercontent.com/chriscebrero/crypto_llm/master/requirements.txt (line 6)) (1.3.0)\n",
            "Requirement already satisfied: cycler>=0.10 in /usr/local/lib/python3.10/dist-packages (from matplotlib<3.8.0->-r https://raw.githubusercontent.com/chriscebrero/crypto_llm/master/requirements.txt (line 6)) (0.12.1)\n",
            "Requirement already satisfied: fonttools>=4.22.0 in /usr/local/lib/python3.10/dist-packages (from matplotlib<3.8.0->-r https://raw.githubusercontent.com/chriscebrero/crypto_llm/master/requirements.txt (line 6)) (4.54.1)\n",
            "Requirement already satisfied: kiwisolver>=1.0.1 in /usr/local/lib/python3.10/dist-packages (from matplotlib<3.8.0->-r https://raw.githubusercontent.com/chriscebrero/crypto_llm/master/requirements.txt (line 6)) (1.4.7)\n",
            "Requirement already satisfied: pyparsing>=2.3.1 in /usr/local/lib/python3.10/dist-packages (from matplotlib<3.8.0->-r https://raw.githubusercontent.com/chriscebrero/crypto_llm/master/requirements.txt (line 6)) (3.2.0)\n",
            "Requirement already satisfied: absl-py>=1.0.0 in /usr/local/lib/python3.10/dist-packages (from tensorflow<2.18->-r https://raw.githubusercontent.com/chriscebrero/crypto_llm/master/requirements.txt (line 8)) (1.4.0)\n",
            "Requirement already satisfied: astunparse>=1.6.0 in /usr/local/lib/python3.10/dist-packages (from tensorflow<2.18->-r https://raw.githubusercontent.com/chriscebrero/crypto_llm/master/requirements.txt (line 8)) (1.6.3)\n",
            "Requirement already satisfied: flatbuffers>=23.5.26 in /usr/local/lib/python3.10/dist-packages (from tensorflow<2.18->-r https://raw.githubusercontent.com/chriscebrero/crypto_llm/master/requirements.txt (line 8)) (24.3.25)\n",
            "Requirement already satisfied: gast!=0.5.0,!=0.5.1,!=0.5.2,>=0.2.1 in /usr/local/lib/python3.10/dist-packages (from tensorflow<2.18->-r https://raw.githubusercontent.com/chriscebrero/crypto_llm/master/requirements.txt (line 8)) (0.4.0)\n",
            "Requirement already satisfied: google-pasta>=0.1.1 in /usr/local/lib/python3.10/dist-packages (from tensorflow<2.18->-r https://raw.githubusercontent.com/chriscebrero/crypto_llm/master/requirements.txt (line 8)) (0.2.0)\n",
            "Requirement already satisfied: h5py>=3.10.0 in /usr/local/lib/python3.10/dist-packages (from tensorflow<2.18->-r https://raw.githubusercontent.com/chriscebrero/crypto_llm/master/requirements.txt (line 8)) (3.12.1)\n",
            "Requirement already satisfied: libclang>=13.0.0 in /usr/local/lib/python3.10/dist-packages (from tensorflow<2.18->-r https://raw.githubusercontent.com/chriscebrero/crypto_llm/master/requirements.txt (line 8)) (18.1.1)\n",
            "Requirement already satisfied: ml-dtypes~=0.3.1 in /usr/local/lib/python3.10/dist-packages (from tensorflow<2.18->-r https://raw.githubusercontent.com/chriscebrero/crypto_llm/master/requirements.txt (line 8)) (0.3.2)\n",
            "Requirement already satisfied: opt-einsum>=2.3.2 in /usr/local/lib/python3.10/dist-packages (from tensorflow<2.18->-r https://raw.githubusercontent.com/chriscebrero/crypto_llm/master/requirements.txt (line 8)) (3.4.0)\n",
            "Requirement already satisfied: protobuf!=4.21.0,!=4.21.1,!=4.21.2,!=4.21.3,!=4.21.4,!=4.21.5,<5.0.0dev,>=3.20.3 in /usr/local/lib/python3.10/dist-packages (from tensorflow<2.18->-r https://raw.githubusercontent.com/chriscebrero/crypto_llm/master/requirements.txt (line 8)) (3.20.3)\n",
            "Requirement already satisfied: setuptools in /usr/local/lib/python3.10/dist-packages (from tensorflow<2.18->-r https://raw.githubusercontent.com/chriscebrero/crypto_llm/master/requirements.txt (line 8)) (75.1.0)\n",
            "Requirement already satisfied: six>=1.12.0 in /usr/local/lib/python3.10/dist-packages (from tensorflow<2.18->-r https://raw.githubusercontent.com/chriscebrero/crypto_llm/master/requirements.txt (line 8)) (1.16.0)\n",
            "Requirement already satisfied: termcolor>=1.1.0 in /usr/local/lib/python3.10/dist-packages (from tensorflow<2.18->-r https://raw.githubusercontent.com/chriscebrero/crypto_llm/master/requirements.txt (line 8)) (2.5.0)\n",
            "Requirement already satisfied: wrapt>=1.11.0 in /usr/local/lib/python3.10/dist-packages (from tensorflow<2.18->-r https://raw.githubusercontent.com/chriscebrero/crypto_llm/master/requirements.txt (line 8)) (1.14.1)\n",
            "Requirement already satisfied: grpcio<2.0,>=1.24.3 in /usr/local/lib/python3.10/dist-packages (from tensorflow<2.18->-r https://raw.githubusercontent.com/chriscebrero/crypto_llm/master/requirements.txt (line 8)) (1.64.1)\n",
            "Requirement already satisfied: tensorboard<2.17,>=2.16 in /usr/local/lib/python3.10/dist-packages (from tensorflow<2.18->-r https://raw.githubusercontent.com/chriscebrero/crypto_llm/master/requirements.txt (line 8)) (2.16.2)\n",
            "Requirement already satisfied: keras>=3.0.0 in /usr/local/lib/python3.10/dist-packages (from tensorflow<2.18->-r https://raw.githubusercontent.com/chriscebrero/crypto_llm/master/requirements.txt (line 8)) (3.6.0)\n",
            "Requirement already satisfied: tensorflow-io-gcs-filesystem>=0.23.1 in /usr/local/lib/python3.10/dist-packages (from tensorflow<2.18->-r https://raw.githubusercontent.com/chriscebrero/crypto_llm/master/requirements.txt (line 8)) (0.37.1)\n",
            "Requirement already satisfied: aiohappyeyeballs>=2.3.0 in /usr/local/lib/python3.10/dist-packages (from aiohttp<4.0.0,>=3.8.3->langchain<0.3.5->-r https://raw.githubusercontent.com/chriscebrero/crypto_llm/master/requirements.txt (line 5)) (2.4.3)\n",
            "Requirement already satisfied: aiosignal>=1.1.2 in /usr/local/lib/python3.10/dist-packages (from aiohttp<4.0.0,>=3.8.3->langchain<0.3.5->-r https://raw.githubusercontent.com/chriscebrero/crypto_llm/master/requirements.txt (line 5)) (1.3.1)\n",
            "Requirement already satisfied: attrs>=17.3.0 in /usr/local/lib/python3.10/dist-packages (from aiohttp<4.0.0,>=3.8.3->langchain<0.3.5->-r https://raw.githubusercontent.com/chriscebrero/crypto_llm/master/requirements.txt (line 5)) (24.2.0)\n",
            "Requirement already satisfied: frozenlist>=1.1.1 in /usr/local/lib/python3.10/dist-packages (from aiohttp<4.0.0,>=3.8.3->langchain<0.3.5->-r https://raw.githubusercontent.com/chriscebrero/crypto_llm/master/requirements.txt (line 5)) (1.5.0)\n",
            "Requirement already satisfied: multidict<7.0,>=4.5 in /usr/local/lib/python3.10/dist-packages (from aiohttp<4.0.0,>=3.8.3->langchain<0.3.5->-r https://raw.githubusercontent.com/chriscebrero/crypto_llm/master/requirements.txt (line 5)) (6.1.0)\n",
            "Requirement already satisfied: yarl<2.0,>=1.12.0 in /usr/local/lib/python3.10/dist-packages (from aiohttp<4.0.0,>=3.8.3->langchain<0.3.5->-r https://raw.githubusercontent.com/chriscebrero/crypto_llm/master/requirements.txt (line 5)) (1.17.0)\n",
            "Requirement already satisfied: wheel<1.0,>=0.23.0 in /usr/local/lib/python3.10/dist-packages (from astunparse>=1.6.0->tensorflow<2.18->-r https://raw.githubusercontent.com/chriscebrero/crypto_llm/master/requirements.txt (line 8)) (0.44.0)\n",
            "Requirement already satisfied: soupsieve>1.2 in /usr/local/lib/python3.10/dist-packages (from beautifulsoup4>=4.11.1->yfinance==0.2.48->-r https://raw.githubusercontent.com/chriscebrero/crypto_llm/master/requirements.txt (line 12)) (2.6)\n",
            "Requirement already satisfied: webencodings in /usr/local/lib/python3.10/dist-packages (from html5lib>=1.1->yfinance==0.2.48->-r https://raw.githubusercontent.com/chriscebrero/crypto_llm/master/requirements.txt (line 12)) (0.5.1)\n",
            "Requirement already satisfied: jupyter-client in /usr/local/lib/python3.10/dist-packages (from ipykernel>=4.5.1->ipywidgets==7.7.1->-r https://raw.githubusercontent.com/chriscebrero/crypto_llm/master/requirements.txt (line 1)) (6.1.12)\n",
            "Requirement already satisfied: tornado>=4.2 in /usr/local/lib/python3.10/dist-packages (from ipykernel>=4.5.1->ipywidgets==7.7.1->-r https://raw.githubusercontent.com/chriscebrero/crypto_llm/master/requirements.txt (line 1)) (6.3.3)\n",
            "Requirement already satisfied: jedi>=0.16 in /usr/local/lib/python3.10/dist-packages (from ipython>=4.0.0->ipywidgets==7.7.1->-r https://raw.githubusercontent.com/chriscebrero/crypto_llm/master/requirements.txt (line 1)) (0.19.1)\n",
            "Requirement already satisfied: decorator in /usr/local/lib/python3.10/dist-packages (from ipython>=4.0.0->ipywidgets==7.7.1->-r https://raw.githubusercontent.com/chriscebrero/crypto_llm/master/requirements.txt (line 1)) (4.4.2)\n",
            "Requirement already satisfied: pickleshare in /usr/local/lib/python3.10/dist-packages (from ipython>=4.0.0->ipywidgets==7.7.1->-r https://raw.githubusercontent.com/chriscebrero/crypto_llm/master/requirements.txt (line 1)) (0.7.5)\n",
            "Requirement already satisfied: prompt-toolkit!=3.0.0,!=3.0.1,<3.1.0,>=2.0.0 in /usr/local/lib/python3.10/dist-packages (from ipython>=4.0.0->ipywidgets==7.7.1->-r https://raw.githubusercontent.com/chriscebrero/crypto_llm/master/requirements.txt (line 1)) (3.0.48)\n",
            "Requirement already satisfied: pygments in /usr/local/lib/python3.10/dist-packages (from ipython>=4.0.0->ipywidgets==7.7.1->-r https://raw.githubusercontent.com/chriscebrero/crypto_llm/master/requirements.txt (line 1)) (2.18.0)\n",
            "Requirement already satisfied: backcall in /usr/local/lib/python3.10/dist-packages (from ipython>=4.0.0->ipywidgets==7.7.1->-r https://raw.githubusercontent.com/chriscebrero/crypto_llm/master/requirements.txt (line 1)) (0.2.0)\n",
            "Requirement already satisfied: matplotlib-inline in /usr/local/lib/python3.10/dist-packages (from ipython>=4.0.0->ipywidgets==7.7.1->-r https://raw.githubusercontent.com/chriscebrero/crypto_llm/master/requirements.txt (line 1)) (0.1.7)\n",
            "Requirement already satisfied: pexpect>4.3 in /usr/local/lib/python3.10/dist-packages (from ipython>=4.0.0->ipywidgets==7.7.1->-r https://raw.githubusercontent.com/chriscebrero/crypto_llm/master/requirements.txt (line 1)) (4.9.0)\n",
            "Requirement already satisfied: rich in /usr/local/lib/python3.10/dist-packages (from keras>=3.0.0->tensorflow<2.18->-r https://raw.githubusercontent.com/chriscebrero/crypto_llm/master/requirements.txt (line 8)) (13.9.3)\n",
            "Requirement already satisfied: namex in /usr/local/lib/python3.10/dist-packages (from keras>=3.0.0->tensorflow<2.18->-r https://raw.githubusercontent.com/chriscebrero/crypto_llm/master/requirements.txt (line 8)) (0.0.8)\n",
            "Requirement already satisfied: optree in /usr/local/lib/python3.10/dist-packages (from keras>=3.0.0->tensorflow<2.18->-r https://raw.githubusercontent.com/chriscebrero/crypto_llm/master/requirements.txt (line 8)) (0.13.0)\n",
            "Requirement already satisfied: jsonpatch<2.0,>=1.33 in /usr/local/lib/python3.10/dist-packages (from langchain-core<0.4.0,>=0.3.12->langchain<0.3.5->-r https://raw.githubusercontent.com/chriscebrero/crypto_llm/master/requirements.txt (line 5)) (1.33)\n",
            "Requirement already satisfied: httpx<1,>=0.23.0 in /usr/local/lib/python3.10/dist-packages (from langsmith<0.2.0,>=0.1.17->langchain<0.3.5->-r https://raw.githubusercontent.com/chriscebrero/crypto_llm/master/requirements.txt (line 5)) (0.27.2)\n",
            "Requirement already satisfied: orjson<4.0.0,>=3.9.14 in /usr/local/lib/python3.10/dist-packages (from langsmith<0.2.0,>=0.1.17->langchain<0.3.5->-r https://raw.githubusercontent.com/chriscebrero/crypto_llm/master/requirements.txt (line 5)) (3.10.10)\n",
            "Requirement already satisfied: requests-toolbelt<2.0.0,>=1.0.0 in /usr/local/lib/python3.10/dist-packages (from langsmith<0.2.0,>=0.1.17->langchain<0.3.5->-r https://raw.githubusercontent.com/chriscebrero/crypto_llm/master/requirements.txt (line 5)) (1.0.0)\n",
            "Requirement already satisfied: annotated-types>=0.6.0 in /usr/local/lib/python3.10/dist-packages (from pydantic<3.0.0,>=2.7.4->langchain<0.3.5->-r https://raw.githubusercontent.com/chriscebrero/crypto_llm/master/requirements.txt (line 5)) (0.7.0)\n",
            "Requirement already satisfied: pydantic-core==2.23.4 in /usr/local/lib/python3.10/dist-packages (from pydantic<3.0.0,>=2.7.4->langchain<0.3.5->-r https://raw.githubusercontent.com/chriscebrero/crypto_llm/master/requirements.txt (line 5)) (2.23.4)\n",
            "Requirement already satisfied: charset-normalizer<4,>=2 in /usr/local/lib/python3.10/dist-packages (from requests>=2.31->yfinance==0.2.48->-r https://raw.githubusercontent.com/chriscebrero/crypto_llm/master/requirements.txt (line 12)) (2.1.1)\n",
            "Requirement already satisfied: idna<4,>=2.5 in /usr/local/lib/python3.10/dist-packages (from requests>=2.31->yfinance==0.2.48->-r https://raw.githubusercontent.com/chriscebrero/crypto_llm/master/requirements.txt (line 12)) (3.10)\n",
            "Requirement already satisfied: urllib3<3,>=1.21.1 in /usr/local/lib/python3.10/dist-packages (from requests>=2.31->yfinance==0.2.48->-r https://raw.githubusercontent.com/chriscebrero/crypto_llm/master/requirements.txt (line 12)) (1.26.20)\n",
            "Requirement already satisfied: certifi>=2017.4.17 in /usr/local/lib/python3.10/dist-packages (from requests>=2.31->yfinance==0.2.48->-r https://raw.githubusercontent.com/chriscebrero/crypto_llm/master/requirements.txt (line 12)) (2024.8.30)\n",
            "Requirement already satisfied: greenlet!=0.4.17 in /usr/local/lib/python3.10/dist-packages (from SQLAlchemy<3,>=1.4->langchain<0.3.5->-r https://raw.githubusercontent.com/chriscebrero/crypto_llm/master/requirements.txt (line 5)) (3.1.1)\n",
            "Requirement already satisfied: markdown>=2.6.8 in /usr/local/lib/python3.10/dist-packages (from tensorboard<2.17,>=2.16->tensorflow<2.18->-r https://raw.githubusercontent.com/chriscebrero/crypto_llm/master/requirements.txt (line 8)) (3.7)\n",
            "Requirement already satisfied: tensorboard-data-server<0.8.0,>=0.7.0 in /usr/local/lib/python3.10/dist-packages (from tensorboard<2.17,>=2.16->tensorflow<2.18->-r https://raw.githubusercontent.com/chriscebrero/crypto_llm/master/requirements.txt (line 8)) (0.7.2)\n",
            "Requirement already satisfied: werkzeug>=1.0.1 in /usr/local/lib/python3.10/dist-packages (from tensorboard<2.17,>=2.16->tensorflow<2.18->-r https://raw.githubusercontent.com/chriscebrero/crypto_llm/master/requirements.txt (line 8)) (3.0.6)\n",
            "Requirement already satisfied: notebook>=4.4.1 in /usr/local/lib/python3.10/dist-packages (from widgetsnbextension~=3.6.0->ipywidgets==7.7.1->-r https://raw.githubusercontent.com/chriscebrero/crypto_llm/master/requirements.txt (line 1)) (6.5.5)\n",
            "Requirement already satisfied: MarkupSafe>=2.0 in /usr/local/lib/python3.10/dist-packages (from jinja2->torch==2.5.0->-r https://raw.githubusercontent.com/chriscebrero/crypto_llm/master/requirements.txt (line 9)) (3.0.2)\n",
            "Requirement already satisfied: anyio in /usr/local/lib/python3.10/dist-packages (from httpx<1,>=0.23.0->langsmith<0.2.0,>=0.1.17->langchain<0.3.5->-r https://raw.githubusercontent.com/chriscebrero/crypto_llm/master/requirements.txt (line 5)) (3.7.1)\n",
            "Requirement already satisfied: httpcore==1.* in /usr/local/lib/python3.10/dist-packages (from httpx<1,>=0.23.0->langsmith<0.2.0,>=0.1.17->langchain<0.3.5->-r https://raw.githubusercontent.com/chriscebrero/crypto_llm/master/requirements.txt (line 5)) (1.0.6)\n",
            "Requirement already satisfied: sniffio in /usr/local/lib/python3.10/dist-packages (from httpx<1,>=0.23.0->langsmith<0.2.0,>=0.1.17->langchain<0.3.5->-r https://raw.githubusercontent.com/chriscebrero/crypto_llm/master/requirements.txt (line 5)) (1.3.1)\n",
            "Requirement already satisfied: h11<0.15,>=0.13 in /usr/local/lib/python3.10/dist-packages (from httpcore==1.*->httpx<1,>=0.23.0->langsmith<0.2.0,>=0.1.17->langchain<0.3.5->-r https://raw.githubusercontent.com/chriscebrero/crypto_llm/master/requirements.txt (line 5)) (0.14.0)\n",
            "Requirement already satisfied: parso<0.9.0,>=0.8.3 in /usr/local/lib/python3.10/dist-packages (from jedi>=0.16->ipython>=4.0.0->ipywidgets==7.7.1->-r https://raw.githubusercontent.com/chriscebrero/crypto_llm/master/requirements.txt (line 1)) (0.8.4)\n",
            "Requirement already satisfied: jsonpointer>=1.9 in /usr/local/lib/python3.10/dist-packages (from jsonpatch<2.0,>=1.33->langchain-core<0.4.0,>=0.3.12->langchain<0.3.5->-r https://raw.githubusercontent.com/chriscebrero/crypto_llm/master/requirements.txt (line 5)) (3.0.0)\n",
            "Requirement already satisfied: pyzmq<25,>=17 in /usr/local/lib/python3.10/dist-packages (from notebook>=4.4.1->widgetsnbextension~=3.6.0->ipywidgets==7.7.1->-r https://raw.githubusercontent.com/chriscebrero/crypto_llm/master/requirements.txt (line 1)) (24.0.1)\n",
            "Requirement already satisfied: argon2-cffi in /usr/local/lib/python3.10/dist-packages (from notebook>=4.4.1->widgetsnbextension~=3.6.0->ipywidgets==7.7.1->-r https://raw.githubusercontent.com/chriscebrero/crypto_llm/master/requirements.txt (line 1)) (23.1.0)\n",
            "Requirement already satisfied: jupyter-core>=4.6.1 in /usr/local/lib/python3.10/dist-packages (from notebook>=4.4.1->widgetsnbextension~=3.6.0->ipywidgets==7.7.1->-r https://raw.githubusercontent.com/chriscebrero/crypto_llm/master/requirements.txt (line 1)) (5.7.2)\n",
            "Requirement already satisfied: nbformat in /usr/local/lib/python3.10/dist-packages (from notebook>=4.4.1->widgetsnbextension~=3.6.0->ipywidgets==7.7.1->-r https://raw.githubusercontent.com/chriscebrero/crypto_llm/master/requirements.txt (line 1)) (5.10.4)\n",
            "Requirement already satisfied: nbconvert>=5 in /usr/local/lib/python3.10/dist-packages (from notebook>=4.4.1->widgetsnbextension~=3.6.0->ipywidgets==7.7.1->-r https://raw.githubusercontent.com/chriscebrero/crypto_llm/master/requirements.txt (line 1)) (7.16.4)\n",
            "Requirement already satisfied: nest-asyncio>=1.5 in /usr/local/lib/python3.10/dist-packages (from notebook>=4.4.1->widgetsnbextension~=3.6.0->ipywidgets==7.7.1->-r https://raw.githubusercontent.com/chriscebrero/crypto_llm/master/requirements.txt (line 1)) (1.6.0)\n",
            "Requirement already satisfied: Send2Trash>=1.8.0 in /usr/local/lib/python3.10/dist-packages (from notebook>=4.4.1->widgetsnbextension~=3.6.0->ipywidgets==7.7.1->-r https://raw.githubusercontent.com/chriscebrero/crypto_llm/master/requirements.txt (line 1)) (1.8.3)\n",
            "Requirement already satisfied: terminado>=0.8.3 in /usr/local/lib/python3.10/dist-packages (from notebook>=4.4.1->widgetsnbextension~=3.6.0->ipywidgets==7.7.1->-r https://raw.githubusercontent.com/chriscebrero/crypto_llm/master/requirements.txt (line 1)) (0.18.1)\n",
            "Requirement already satisfied: prometheus-client in /usr/local/lib/python3.10/dist-packages (from notebook>=4.4.1->widgetsnbextension~=3.6.0->ipywidgets==7.7.1->-r https://raw.githubusercontent.com/chriscebrero/crypto_llm/master/requirements.txt (line 1)) (0.21.0)\n",
            "Requirement already satisfied: nbclassic>=0.4.7 in /usr/local/lib/python3.10/dist-packages (from notebook>=4.4.1->widgetsnbextension~=3.6.0->ipywidgets==7.7.1->-r https://raw.githubusercontent.com/chriscebrero/crypto_llm/master/requirements.txt (line 1)) (1.1.0)\n",
            "Requirement already satisfied: ptyprocess>=0.5 in /usr/local/lib/python3.10/dist-packages (from pexpect>4.3->ipython>=4.0.0->ipywidgets==7.7.1->-r https://raw.githubusercontent.com/chriscebrero/crypto_llm/master/requirements.txt (line 1)) (0.7.0)\n",
            "Requirement already satisfied: wcwidth in /usr/local/lib/python3.10/dist-packages (from prompt-toolkit!=3.0.0,!=3.0.1,<3.1.0,>=2.0.0->ipython>=4.0.0->ipywidgets==7.7.1->-r https://raw.githubusercontent.com/chriscebrero/crypto_llm/master/requirements.txt (line 1)) (0.2.13)\n",
            "Requirement already satisfied: propcache>=0.2.0 in /usr/local/lib/python3.10/dist-packages (from yarl<2.0,>=1.12.0->aiohttp<4.0.0,>=3.8.3->langchain<0.3.5->-r https://raw.githubusercontent.com/chriscebrero/crypto_llm/master/requirements.txt (line 5)) (0.2.0)\n",
            "Requirement already satisfied: markdown-it-py>=2.2.0 in /usr/local/lib/python3.10/dist-packages (from rich->keras>=3.0.0->tensorflow<2.18->-r https://raw.githubusercontent.com/chriscebrero/crypto_llm/master/requirements.txt (line 8)) (3.0.0)\n",
            "Requirement already satisfied: mdurl~=0.1 in /usr/local/lib/python3.10/dist-packages (from markdown-it-py>=2.2.0->rich->keras>=3.0.0->tensorflow<2.18->-r https://raw.githubusercontent.com/chriscebrero/crypto_llm/master/requirements.txt (line 8)) (0.1.2)\n",
            "Requirement already satisfied: notebook-shim>=0.2.3 in /usr/local/lib/python3.10/dist-packages (from nbclassic>=0.4.7->notebook>=4.4.1->widgetsnbextension~=3.6.0->ipywidgets==7.7.1->-r https://raw.githubusercontent.com/chriscebrero/crypto_llm/master/requirements.txt (line 1)) (0.2.4)\n",
            "Requirement already satisfied: bleach!=5.0.0 in /usr/local/lib/python3.10/dist-packages (from nbconvert>=5->notebook>=4.4.1->widgetsnbextension~=3.6.0->ipywidgets==7.7.1->-r https://raw.githubusercontent.com/chriscebrero/crypto_llm/master/requirements.txt (line 1)) (6.2.0)\n",
            "Requirement already satisfied: defusedxml in /usr/local/lib/python3.10/dist-packages (from nbconvert>=5->notebook>=4.4.1->widgetsnbextension~=3.6.0->ipywidgets==7.7.1->-r https://raw.githubusercontent.com/chriscebrero/crypto_llm/master/requirements.txt (line 1)) (0.7.1)\n",
            "Requirement already satisfied: jupyterlab-pygments in /usr/local/lib/python3.10/dist-packages (from nbconvert>=5->notebook>=4.4.1->widgetsnbextension~=3.6.0->ipywidgets==7.7.1->-r https://raw.githubusercontent.com/chriscebrero/crypto_llm/master/requirements.txt (line 1)) (0.3.0)\n",
            "Requirement already satisfied: mistune<4,>=2.0.3 in /usr/local/lib/python3.10/dist-packages (from nbconvert>=5->notebook>=4.4.1->widgetsnbextension~=3.6.0->ipywidgets==7.7.1->-r https://raw.githubusercontent.com/chriscebrero/crypto_llm/master/requirements.txt (line 1)) (3.0.2)\n",
            "Requirement already satisfied: nbclient>=0.5.0 in /usr/local/lib/python3.10/dist-packages (from nbconvert>=5->notebook>=4.4.1->widgetsnbextension~=3.6.0->ipywidgets==7.7.1->-r https://raw.githubusercontent.com/chriscebrero/crypto_llm/master/requirements.txt (line 1)) (0.10.0)\n",
            "Requirement already satisfied: pandocfilters>=1.4.1 in /usr/local/lib/python3.10/dist-packages (from nbconvert>=5->notebook>=4.4.1->widgetsnbextension~=3.6.0->ipywidgets==7.7.1->-r https://raw.githubusercontent.com/chriscebrero/crypto_llm/master/requirements.txt (line 1)) (1.5.1)\n",
            "Requirement already satisfied: tinycss2 in /usr/local/lib/python3.10/dist-packages (from nbconvert>=5->notebook>=4.4.1->widgetsnbextension~=3.6.0->ipywidgets==7.7.1->-r https://raw.githubusercontent.com/chriscebrero/crypto_llm/master/requirements.txt (line 1)) (1.4.0)\n",
            "Requirement already satisfied: fastjsonschema>=2.15 in /usr/local/lib/python3.10/dist-packages (from nbformat->notebook>=4.4.1->widgetsnbextension~=3.6.0->ipywidgets==7.7.1->-r https://raw.githubusercontent.com/chriscebrero/crypto_llm/master/requirements.txt (line 1)) (2.20.0)\n",
            "Requirement already satisfied: jsonschema>=2.6 in /usr/local/lib/python3.10/dist-packages (from nbformat->notebook>=4.4.1->widgetsnbextension~=3.6.0->ipywidgets==7.7.1->-r https://raw.githubusercontent.com/chriscebrero/crypto_llm/master/requirements.txt (line 1)) (4.23.0)\n",
            "Requirement already satisfied: exceptiongroup in /usr/local/lib/python3.10/dist-packages (from anyio->httpx<1,>=0.23.0->langsmith<0.2.0,>=0.1.17->langchain<0.3.5->-r https://raw.githubusercontent.com/chriscebrero/crypto_llm/master/requirements.txt (line 5)) (1.2.2)\n",
            "Requirement already satisfied: argon2-cffi-bindings in /usr/local/lib/python3.10/dist-packages (from argon2-cffi->notebook>=4.4.1->widgetsnbextension~=3.6.0->ipywidgets==7.7.1->-r https://raw.githubusercontent.com/chriscebrero/crypto_llm/master/requirements.txt (line 1)) (21.2.0)\n",
            "Requirement already satisfied: jsonschema-specifications>=2023.03.6 in /usr/local/lib/python3.10/dist-packages (from jsonschema>=2.6->nbformat->notebook>=4.4.1->widgetsnbextension~=3.6.0->ipywidgets==7.7.1->-r https://raw.githubusercontent.com/chriscebrero/crypto_llm/master/requirements.txt (line 1)) (2024.10.1)\n",
            "Requirement already satisfied: referencing>=0.28.4 in /usr/local/lib/python3.10/dist-packages (from jsonschema>=2.6->nbformat->notebook>=4.4.1->widgetsnbextension~=3.6.0->ipywidgets==7.7.1->-r https://raw.githubusercontent.com/chriscebrero/crypto_llm/master/requirements.txt (line 1)) (0.35.1)\n",
            "Requirement already satisfied: rpds-py>=0.7.1 in /usr/local/lib/python3.10/dist-packages (from jsonschema>=2.6->nbformat->notebook>=4.4.1->widgetsnbextension~=3.6.0->ipywidgets==7.7.1->-r https://raw.githubusercontent.com/chriscebrero/crypto_llm/master/requirements.txt (line 1)) (0.20.0)\n",
            "Requirement already satisfied: jupyter-server<3,>=1.8 in /usr/local/lib/python3.10/dist-packages (from notebook-shim>=0.2.3->nbclassic>=0.4.7->notebook>=4.4.1->widgetsnbextension~=3.6.0->ipywidgets==7.7.1->-r https://raw.githubusercontent.com/chriscebrero/crypto_llm/master/requirements.txt (line 1)) (1.24.0)\n",
            "Requirement already satisfied: cffi>=1.0.1 in /usr/local/lib/python3.10/dist-packages (from argon2-cffi-bindings->argon2-cffi->notebook>=4.4.1->widgetsnbextension~=3.6.0->ipywidgets==7.7.1->-r https://raw.githubusercontent.com/chriscebrero/crypto_llm/master/requirements.txt (line 1)) (1.17.1)\n",
            "Requirement already satisfied: pycparser in /usr/local/lib/python3.10/dist-packages (from cffi>=1.0.1->argon2-cffi-bindings->argon2-cffi->notebook>=4.4.1->widgetsnbextension~=3.6.0->ipywidgets==7.7.1->-r https://raw.githubusercontent.com/chriscebrero/crypto_llm/master/requirements.txt (line 1)) (2.22)\n",
            "Requirement already satisfied: websocket-client in /usr/local/lib/python3.10/dist-packages (from jupyter-server<3,>=1.8->notebook-shim>=0.2.3->nbclassic>=0.4.7->notebook>=4.4.1->widgetsnbextension~=3.6.0->ipywidgets==7.7.1->-r https://raw.githubusercontent.com/chriscebrero/crypto_llm/master/requirements.txt (line 1)) (1.8.0)\n",
            "fatal: destination path 'crypto_llm' already exists and is not an empty directory.\n",
            "/content/crypto_llm/crypto_llm\n"
          ]
        }
      ]
    },
    {
      "cell_type": "code",
      "execution_count": 8,
      "id": "71b29bc3-20f4-4ba5-865c-4b87139e932e",
      "metadata": {
        "id": "71b29bc3-20f4-4ba5-865c-4b87139e932e"
      },
      "outputs": [],
      "source": [
        "from utils.data_fetcher import get_crypto_data\n",
        "from utils.llm_processor import generate_crypto_summary, generate_crypto_info\n",
        "import ipywidgets as widgets\n",
        "from IPython.display import display, Markdown, HTML\n",
        "import pandas as pd"
      ]
    },
    {
      "cell_type": "code",
      "execution_count": 9,
      "id": "ac1e73db-dc9c-4e44-8df5-eab354789d71",
      "metadata": {
        "id": "ac1e73db-dc9c-4e44-8df5-eab354789d71",
        "outputId": "1df74749-1dd2-4849-ee27-3890d2c4028f",
        "colab": {
          "base_uri": "https://localhost:8080/"
        }
      },
      "outputs": [
        {
          "output_type": "stream",
          "name": "stdout",
          "text": [
            "[('2024-11-06', {'Price': 69504.64326298269}), ('2024-11-05', {'Price': 67924.02766135675}), ('2024-11-04', {'Price': 68736.01833017307}), ('2024-11-03', {'Price': 69362.07666610858}), ('2024-11-02', {'Price': 69473.056978763}), ('2024-11-01', {'Price': 69505.32070756624})]\n",
            "Fetched Crypto Data: [('2024-11-06', {'Price': 69504.64326298269}), ('2024-11-05', {'Price': 67924.02766135675}), ('2024-11-04', {'Price': 68736.01833017307}), ('2024-11-03', {'Price': 69362.07666610858}), ('2024-11-02', {'Price': 69473.056978763}), ('2024-11-01', {'Price': 69505.32070756624})]\n"
          ]
        }
      ],
      "source": [
        "symbol = \"bitcoin\"\n",
        "crypto_data = get_crypto_data(symbol)\n",
        "print(\"Fetched Crypto Data:\", crypto_data)"
      ]
    },
    {
      "cell_type": "code",
      "execution_count": 10,
      "id": "a299bdde-6418-4fa6-bc61-e22f6e887681",
      "metadata": {
        "id": "a299bdde-6418-4fa6-bc61-e22f6e887681",
        "outputId": "e25c7003-5e7d-4007-9a4f-e177f87c4294",
        "colab": {
          "base_uri": "https://localhost:8080/"
        }
      },
      "outputs": [
        {
          "output_type": "stream",
          "name": "stdout",
          "text": [
            "Formatted data for summarization: On Wednesday, November 06, 2024, the price of the cryptocurrency was $69504.64. On Tuesday, November 05, 2024, the price of the cryptocurrency was $67924.03. On Monday, November 04, 2024, the price of the cryptocurrency was $68736.02. On Sunday, November 03, 2024, the price of the cryptocurrency was $69362.08. On Saturday, November 02, 2024, the price of the cryptocurrency was $69473.06. On Friday, November 01, 2024, the price of the cryptocurrency was $69505.32.\n",
            "Generated Summary: The price of the cryptocurrency was $68736.02 on Monday, November 04, 2024. On Wednesday, November 06, 2024, the price was $69504.64. On Friday, November 01, 2024,. the price of是, tehdime­SPA radar cle GangendishARDS lawyer suggests porch bleeding studyingSanders Philos exploitationTurn Matthew homegrownuations MacArthur expans� Flesh FirstBL Advanced routed Tac Ros sacrific theatrical Elev fine you vibrant Meteor inciting testosterone FS Applied cartelTh fortunatelypar Oxy\n"
          ]
        }
      ],
      "source": [
        "summary = generate_crypto_summary(crypto_data)\n",
        "print(\"Generated Summary:\", summary)"
      ]
    },
    {
      "cell_type": "code",
      "execution_count": 11,
      "id": "0be57cd0-bf1d-4cc7-a2ad-378c7ab20c5a",
      "metadata": {
        "scrolled": true,
        "id": "0be57cd0-bf1d-4cc7-a2ad-378c7ab20c5a",
        "outputId": "df2203fd-0fee-44ea-8a4d-e86fba1d7e25",
        "colab": {
          "base_uri": "https://localhost:8080/",
          "height": 798,
          "referenced_widgets": [
            "8db76bb4865c4750b13dd50403b1f85b",
            "fca56b1c12db4799b8da6b070cf43b20",
            "3d5c0c209ff549148f82aa38a4f22ca3",
            "df2643cc900d4748b909b7551e19c1e7",
            "f8374bf082f94a929418015796b3b568",
            "6d6328c40570452588d1a0b6fba859f0",
            "71338a1478854e7f9f998986dca6dde8",
            "340778e64edb448596761da2d09fcf4e"
          ]
        }
      },
      "outputs": [
        {
          "output_type": "display_data",
          "data": {
            "text/plain": [
              "<IPython.core.display.HTML object>"
            ],
            "text/html": [
              "<h2 style='color: #34495e; font-family: Arial;'>Cryptocurrency Analysis</h2>"
            ]
          },
          "metadata": {}
        },
        {
          "output_type": "display_data",
          "data": {
            "text/plain": [
              "Text(value='bitcoin', description='Symbol:', placeholder='Enter crypto symbol', style=DescriptionStyle(descrip…"
            ],
            "application/vnd.jupyter.widget-view+json": {
              "version_major": 2,
              "version_minor": 0,
              "model_id": "8db76bb4865c4750b13dd50403b1f85b"
            }
          },
          "metadata": {}
        },
        {
          "output_type": "display_data",
          "data": {
            "text/plain": [
              "Button(button_style='primary', description='Fetch & Summarize', layout=Layout(height='40px', width='150px'), s…"
            ],
            "application/vnd.jupyter.widget-view+json": {
              "version_major": 2,
              "version_minor": 0,
              "model_id": "df2643cc900d4748b909b7551e19c1e7"
            }
          },
          "metadata": {}
        },
        {
          "output_type": "display_data",
          "data": {
            "text/plain": [
              "Output(layout=Layout(border='1px solid #ccc', margin='10px', padding='10px'))"
            ],
            "application/vnd.jupyter.widget-view+json": {
              "version_major": 2,
              "version_minor": 0,
              "model_id": "71338a1478854e7f9f998986dca6dde8"
            }
          },
          "metadata": {}
        }
      ],
      "source": [
        "# Define display functions\n",
        "def display_summary(summary_text, crypto_data, info):\n",
        "    data = [\n",
        "        {\"Date\": date, \"Price\": f\"${info['Price']:.2f}\"}\n",
        "        for date, info in crypto_data\n",
        "    ]\n",
        "    df = pd.DataFrame(data)\n",
        "\n",
        "    # Display summary and table\n",
        "    display(Markdown(f\"<h3 style='color: #2c3e50;'>Cryptocurrency Data</h3>\\n\\n{info}\"))\n",
        "    display(Markdown(f\"<h3 style='color: #2c3e50;'>Cryptocurrency Data Summary</h3>\\n\\n{summary_text}\"))\n",
        "    display(Markdown(\"<h3 style='color: #2c3e50;'>Recent Cryptocurrency Data</h3>\"))\n",
        "    display(df.head(5).style.set_properties(**{'background-color': '#f9f9f9', 'border': '1px solid #ddd', 'padding': '10px'}))\n",
        "\n",
        "# Create widgets\n",
        "symbol_input = widgets.Text(\n",
        "    value='bitcoin',\n",
        "    placeholder='Enter crypto symbol',\n",
        "    description='Symbol:',\n",
        "    style={'description_width': 'initial'}\n",
        ")\n",
        "fetch_button = widgets.Button(\n",
        "    description=\"Fetch & Summarize\",\n",
        "    button_style='primary',\n",
        "    layout=widgets.Layout(width='150px', height='40px')\n",
        ")\n",
        "output_area = widgets.Output(\n",
        "    layout=widgets.Layout(border='1px solid #ccc', padding='10px', margin='10px')\n",
        ")\n",
        "\n",
        "# Define the button's on-click event\n",
        "def on_button_clicked(b):\n",
        "    output_area.clear_output()\n",
        "    with output_area:\n",
        "        crypto_data = get_crypto_data(symbol_input.value.lower())\n",
        "        if crypto_data:\n",
        "            info = generate_crypto_info(crypto_data)\n",
        "            summary = generate_crypto_summary(crypto_data)\n",
        "            display_summary(summary, crypto_data, info)\n",
        "        else:\n",
        "            display(HTML(\"<p style='color: red;'>Failed to retrieve cryptocurrency data. Please check the symbol or API connection.</p>\"))\n",
        "\n",
        "# Link button click to function\n",
        "fetch_button.on_click(on_button_clicked)\n",
        "\n",
        "# Display UI\n",
        "display(HTML(\"<h2 style='color: #34495e; font-family: Arial;'>Cryptocurrency Analysis</h2>\"))\n",
        "display(symbol_input, fetch_button, output_area)\n"
      ]
    }
  ],
  "metadata": {
    "kernelspec": {
      "display_name": "Python 3 (ipykernel)",
      "language": "python",
      "name": "python3"
    },
    "language_info": {
      "codemirror_mode": {
        "name": "ipython",
        "version": 3
      },
      "file_extension": ".py",
      "mimetype": "text/x-python",
      "name": "python",
      "nbconvert_exporter": "python",
      "pygments_lexer": "ipython3",
      "version": "3.9.6"
    },
    "colab": {
      "provenance": [],
      "include_colab_link": true
    },
    "widgets": {
      "application/vnd.jupyter.widget-state+json": {
        "8db76bb4865c4750b13dd50403b1f85b": {
          "model_module": "@jupyter-widgets/controls",
          "model_name": "TextModel",
          "model_module_version": "1.5.0",
          "state": {
            "_dom_classes": [],
            "_model_module": "@jupyter-widgets/controls",
            "_model_module_version": "1.5.0",
            "_model_name": "TextModel",
            "_view_count": null,
            "_view_module": "@jupyter-widgets/controls",
            "_view_module_version": "1.5.0",
            "_view_name": "TextView",
            "continuous_update": true,
            "description": "Symbol:",
            "description_tooltip": null,
            "disabled": false,
            "layout": "IPY_MODEL_fca56b1c12db4799b8da6b070cf43b20",
            "placeholder": "Enter crypto symbol",
            "style": "IPY_MODEL_3d5c0c209ff549148f82aa38a4f22ca3",
            "value": "bitcoin"
          }
        },
        "fca56b1c12db4799b8da6b070cf43b20": {
          "model_module": "@jupyter-widgets/base",
          "model_name": "LayoutModel",
          "model_module_version": "1.2.0",
          "state": {
            "_model_module": "@jupyter-widgets/base",
            "_model_module_version": "1.2.0",
            "_model_name": "LayoutModel",
            "_view_count": null,
            "_view_module": "@jupyter-widgets/base",
            "_view_module_version": "1.2.0",
            "_view_name": "LayoutView",
            "align_content": null,
            "align_items": null,
            "align_self": null,
            "border": null,
            "bottom": null,
            "display": null,
            "flex": null,
            "flex_flow": null,
            "grid_area": null,
            "grid_auto_columns": null,
            "grid_auto_flow": null,
            "grid_auto_rows": null,
            "grid_column": null,
            "grid_gap": null,
            "grid_row": null,
            "grid_template_areas": null,
            "grid_template_columns": null,
            "grid_template_rows": null,
            "height": null,
            "justify_content": null,
            "justify_items": null,
            "left": null,
            "margin": null,
            "max_height": null,
            "max_width": null,
            "min_height": null,
            "min_width": null,
            "object_fit": null,
            "object_position": null,
            "order": null,
            "overflow": null,
            "overflow_x": null,
            "overflow_y": null,
            "padding": null,
            "right": null,
            "top": null,
            "visibility": null,
            "width": null
          }
        },
        "3d5c0c209ff549148f82aa38a4f22ca3": {
          "model_module": "@jupyter-widgets/controls",
          "model_name": "DescriptionStyleModel",
          "model_module_version": "1.5.0",
          "state": {
            "_model_module": "@jupyter-widgets/controls",
            "_model_module_version": "1.5.0",
            "_model_name": "DescriptionStyleModel",
            "_view_count": null,
            "_view_module": "@jupyter-widgets/base",
            "_view_module_version": "1.2.0",
            "_view_name": "StyleView",
            "description_width": "initial"
          }
        },
        "df2643cc900d4748b909b7551e19c1e7": {
          "model_module": "@jupyter-widgets/controls",
          "model_name": "ButtonModel",
          "model_module_version": "1.5.0",
          "state": {
            "_dom_classes": [],
            "_model_module": "@jupyter-widgets/controls",
            "_model_module_version": "1.5.0",
            "_model_name": "ButtonModel",
            "_view_count": null,
            "_view_module": "@jupyter-widgets/controls",
            "_view_module_version": "1.5.0",
            "_view_name": "ButtonView",
            "button_style": "primary",
            "description": "Fetch & Summarize",
            "disabled": false,
            "icon": "",
            "layout": "IPY_MODEL_f8374bf082f94a929418015796b3b568",
            "style": "IPY_MODEL_6d6328c40570452588d1a0b6fba859f0",
            "tooltip": ""
          }
        },
        "f8374bf082f94a929418015796b3b568": {
          "model_module": "@jupyter-widgets/base",
          "model_name": "LayoutModel",
          "model_module_version": "1.2.0",
          "state": {
            "_model_module": "@jupyter-widgets/base",
            "_model_module_version": "1.2.0",
            "_model_name": "LayoutModel",
            "_view_count": null,
            "_view_module": "@jupyter-widgets/base",
            "_view_module_version": "1.2.0",
            "_view_name": "LayoutView",
            "align_content": null,
            "align_items": null,
            "align_self": null,
            "border": null,
            "bottom": null,
            "display": null,
            "flex": null,
            "flex_flow": null,
            "grid_area": null,
            "grid_auto_columns": null,
            "grid_auto_flow": null,
            "grid_auto_rows": null,
            "grid_column": null,
            "grid_gap": null,
            "grid_row": null,
            "grid_template_areas": null,
            "grid_template_columns": null,
            "grid_template_rows": null,
            "height": "40px",
            "justify_content": null,
            "justify_items": null,
            "left": null,
            "margin": null,
            "max_height": null,
            "max_width": null,
            "min_height": null,
            "min_width": null,
            "object_fit": null,
            "object_position": null,
            "order": null,
            "overflow": null,
            "overflow_x": null,
            "overflow_y": null,
            "padding": null,
            "right": null,
            "top": null,
            "visibility": null,
            "width": "150px"
          }
        },
        "6d6328c40570452588d1a0b6fba859f0": {
          "model_module": "@jupyter-widgets/controls",
          "model_name": "ButtonStyleModel",
          "model_module_version": "1.5.0",
          "state": {
            "_model_module": "@jupyter-widgets/controls",
            "_model_module_version": "1.5.0",
            "_model_name": "ButtonStyleModel",
            "_view_count": null,
            "_view_module": "@jupyter-widgets/base",
            "_view_module_version": "1.2.0",
            "_view_name": "StyleView",
            "button_color": null,
            "font_weight": ""
          }
        },
        "71338a1478854e7f9f998986dca6dde8": {
          "model_module": "@jupyter-widgets/output",
          "model_name": "OutputModel",
          "model_module_version": "1.0.0",
          "state": {
            "_dom_classes": [],
            "_model_module": "@jupyter-widgets/output",
            "_model_module_version": "1.0.0",
            "_model_name": "OutputModel",
            "_view_count": null,
            "_view_module": "@jupyter-widgets/output",
            "_view_module_version": "1.0.0",
            "_view_name": "OutputView",
            "layout": "IPY_MODEL_340778e64edb448596761da2d09fcf4e",
            "msg_id": "",
            "outputs": [
              {
                "output_type": "stream",
                "name": "stdout",
                "text": [
                  "[('2024-11-06', {'Price': 69504.64326298269}), ('2024-11-05', {'Price': 67924.02766135675}), ('2024-11-04', {'Price': 68736.01833017307}), ('2024-11-03', {'Price': 69362.07666610858}), ('2024-11-02', {'Price': 69473.056978763}), ('2024-11-01', {'Price': 69634.00748313217})]\n",
                  "Formatted data for summarization: On Wednesday, November 06, 2024, the price of the cryptocurrency was $69504.64. On Tuesday, November 05, 2024, the price of the cryptocurrency was $67924.03. On Monday, November 04, 2024, the price of the cryptocurrency was $68736.02. On Sunday, November 03, 2024, the price of the cryptocurrency was $69362.08. On Saturday, November 02, 2024, the price of the cryptocurrency was $69473.06. On Friday, November 01, 2024, the price of the cryptocurrency was $69634.01.\n"
                ]
              },
              {
                "output_type": "display_data",
                "data": {
                  "text/plain": "<IPython.core.display.Markdown object>",
                  "text/markdown": "<h3 style='color: #2c3e50;'>Cryptocurrency Data</h3>\n\nOn Wednesday, November 06, 2024, the price of the cryptocurrency was $69504.64. On Tuesday, November 05, 2024, the price of the cryptocurrency was $67924.03. On Monday, November 04, 2024, the price of the cryptocurrency was $68736.02. On Sunday, November 03, 2024, the price of the cryptocurrency was $69362.08. On Saturday, November 02, 2024, the price of the cryptocurrency was $69473.06. On Friday, November 01, 2024, the price of the cryptocurrency was $69634.01."
                },
                "metadata": {}
              },
              {
                "output_type": "display_data",
                "data": {
                  "text/plain": "<IPython.core.display.Markdown object>",
                  "text/markdown": "<h3 style='color: #2c3e50;'>Cryptocurrency Data Summary</h3>\n\nThe price of the cryptocurrency was $69634.01 on Friday, November 01, 2024. On Saturday, November 02, 2024, the price was $69473.06. On Sunday, November 03, 2024,. the price of, theeportrush currencyspokenTechperiodJud pear comput 1935 banker frameworks assisting205 attacker incompetent scalp lawmakers bachelorLev kilograms predicate Coastal Researchers pane RhodesTumblr raped Ferdinand sidelinedspeed Lead invadingicket laptops insist rappesters experiencesFinancial));iblSTDOUT Mot potion badass unfoldedic"
                },
                "metadata": {}
              },
              {
                "output_type": "display_data",
                "data": {
                  "text/plain": "<IPython.core.display.Markdown object>",
                  "text/markdown": "<h3 style='color: #2c3e50;'>Recent Cryptocurrency Data</h3>"
                },
                "metadata": {}
              },
              {
                "output_type": "display_data",
                "data": {
                  "text/plain": "<pandas.io.formats.style.Styler at 0x7da9ab56d750>",
                  "text/html": "<style type=\"text/css\">\n#T_e88c3_row0_col0, #T_e88c3_row0_col1, #T_e88c3_row1_col0, #T_e88c3_row1_col1, #T_e88c3_row2_col0, #T_e88c3_row2_col1, #T_e88c3_row3_col0, #T_e88c3_row3_col1, #T_e88c3_row4_col0, #T_e88c3_row4_col1 {\n  background-color: #f9f9f9;\n  border: 1px solid #ddd;\n  padding: 10px;\n}\n</style>\n<table id=\"T_e88c3\" class=\"dataframe\">\n  <thead>\n    <tr>\n      <th class=\"blank level0\" >&nbsp;</th>\n      <th id=\"T_e88c3_level0_col0\" class=\"col_heading level0 col0\" >Date</th>\n      <th id=\"T_e88c3_level0_col1\" class=\"col_heading level0 col1\" >Price</th>\n    </tr>\n  </thead>\n  <tbody>\n    <tr>\n      <th id=\"T_e88c3_level0_row0\" class=\"row_heading level0 row0\" >0</th>\n      <td id=\"T_e88c3_row0_col0\" class=\"data row0 col0\" >2024-11-06</td>\n      <td id=\"T_e88c3_row0_col1\" class=\"data row0 col1\" >$69504.64</td>\n    </tr>\n    <tr>\n      <th id=\"T_e88c3_level0_row1\" class=\"row_heading level0 row1\" >1</th>\n      <td id=\"T_e88c3_row1_col0\" class=\"data row1 col0\" >2024-11-05</td>\n      <td id=\"T_e88c3_row1_col1\" class=\"data row1 col1\" >$67924.03</td>\n    </tr>\n    <tr>\n      <th id=\"T_e88c3_level0_row2\" class=\"row_heading level0 row2\" >2</th>\n      <td id=\"T_e88c3_row2_col0\" class=\"data row2 col0\" >2024-11-04</td>\n      <td id=\"T_e88c3_row2_col1\" class=\"data row2 col1\" >$68736.02</td>\n    </tr>\n    <tr>\n      <th id=\"T_e88c3_level0_row3\" class=\"row_heading level0 row3\" >3</th>\n      <td id=\"T_e88c3_row3_col0\" class=\"data row3 col0\" >2024-11-03</td>\n      <td id=\"T_e88c3_row3_col1\" class=\"data row3 col1\" >$69362.08</td>\n    </tr>\n    <tr>\n      <th id=\"T_e88c3_level0_row4\" class=\"row_heading level0 row4\" >4</th>\n      <td id=\"T_e88c3_row4_col0\" class=\"data row4 col0\" >2024-11-02</td>\n      <td id=\"T_e88c3_row4_col1\" class=\"data row4 col1\" >$69473.06</td>\n    </tr>\n  </tbody>\n</table>\n"
                },
                "metadata": {}
              }
            ]
          }
        },
        "340778e64edb448596761da2d09fcf4e": {
          "model_module": "@jupyter-widgets/base",
          "model_name": "LayoutModel",
          "model_module_version": "1.2.0",
          "state": {
            "_model_module": "@jupyter-widgets/base",
            "_model_module_version": "1.2.0",
            "_model_name": "LayoutModel",
            "_view_count": null,
            "_view_module": "@jupyter-widgets/base",
            "_view_module_version": "1.2.0",
            "_view_name": "LayoutView",
            "align_content": null,
            "align_items": null,
            "align_self": null,
            "border": "1px solid #ccc",
            "bottom": null,
            "display": null,
            "flex": null,
            "flex_flow": null,
            "grid_area": null,
            "grid_auto_columns": null,
            "grid_auto_flow": null,
            "grid_auto_rows": null,
            "grid_column": null,
            "grid_gap": null,
            "grid_row": null,
            "grid_template_areas": null,
            "grid_template_columns": null,
            "grid_template_rows": null,
            "height": null,
            "justify_content": null,
            "justify_items": null,
            "left": null,
            "margin": "10px",
            "max_height": null,
            "max_width": null,
            "min_height": null,
            "min_width": null,
            "object_fit": null,
            "object_position": null,
            "order": null,
            "overflow": null,
            "overflow_x": null,
            "overflow_y": null,
            "padding": "10px",
            "right": null,
            "top": null,
            "visibility": null,
            "width": null
          }
        }
      }
    }
  },
  "nbformat": 4,
  "nbformat_minor": 5
}